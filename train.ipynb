{
 "cells": [
  {
   "cell_type": "code",
   "execution_count": 1,
   "metadata": {},
   "outputs": [
    {
     "name": "stderr",
     "output_type": "stream",
     "text": [
      "Using TensorFlow backend.\n"
     ]
    }
   ],
   "source": [
    "import re\n",
    "import numpy as np\n",
    "\n",
    "from itertools import chain\n",
    "from keras.preprocessing.sequence import pad_sequences\n",
    "from keras.preprocessing.text import one_hot"
   ]
  },
  {
   "cell_type": "markdown",
   "metadata": {},
   "source": [
    "# Build mapping table"
   ]
  },
  {
   "cell_type": "code",
   "execution_count": null,
   "metadata": {},
   "outputs": [],
   "source": [
    "complete_kor_range = range(0xac00, 0xd7a4)\n",
    "complete_eng_range = range(0x0041, 0x007b)\n",
    "\n",
    "numbers = '0123456789'\n",
    "tokens = ['<unk>', '<e>']\n",
    "\n",
    "idx_to_chr = []\n",
    "chr_to_idx = {}\n",
    "\n",
    "# Build mapping table between chr & idx\n",
    "idx_to_chr.extend(numbers)\n",
    "idx_to_chr.extend(tokens)\n",
    "for i in chain(complete_kor_range, complete_eng_range):\n",
    "    idx_to_chr.append(chr(i))\n",
    "\n",
    "for v, k in enumerate(idx_to_chr):\n",
    "    chr_to_idx[k] = v"
   ]
  },
  {
   "cell_type": "markdown",
   "metadata": {},
   "source": [
    "# Preprocess data"
   ]
  },
  {
   "cell_type": "code",
   "execution_count": null,
   "metadata": {},
   "outputs": [],
   "source": [
    "X_train = []\n",
    "y_train = []\n",
    "\n",
    "max_len = 200\n",
    "\n",
    "\n",
    "def encode(c):\n",
    "    try:\n",
    "        idx = chr_to_idx[c]\n",
    "    except:\n",
    "        idx = chr_to_idx['<unk>']\n",
    "        \n",
    "    return idx\n",
    "\n",
    "\n",
    "def get_label(s):\n",
    "    label = [] \n",
    "    i = 0\n",
    "    while True:\n",
    "        try:\n",
    "            nxt = s[i + 1]\n",
    "        except:\n",
    "            label.append(0)\n",
    "            break\n",
    "        if nxt == ' ':\n",
    "            label.append(1)\n",
    "            i += 2\n",
    "        else:\n",
    "            label.append(0)\n",
    "            i += 1\n",
    "    \n",
    "    return label\n",
    "\n",
    "\n",
    "regex = re.compile(r'\\s+')\n",
    "with open('test.txt', 'r', encoding='UTF-8-SIG') as f:\n",
    "    for line in f:\n",
    "        line = re.sub(regex, ' ', line)  # remove duplicate whitespaces\n",
    "        line = line.strip().lower()\n",
    "        \n",
    "        if line:  # skip empty strings\n",
    "            label = get_label(line)\n",
    "            line = re.sub(regex, '', line)  # remove all whitespaces\n",
    "            encoded = [encode(c) for c in line]\n",
    "            \n",
    "            X_train.append(encoded)\n",
    "            y_train.append(label)\n",
    "            \n",
    "X_train = pad_sequences(X_train, maxlen=max_len, padding='post', truncating='post')\n",
    "y_train = pad_sequences(y_train, maxlen=max_len, padding='post', truncating='post')\n",
    "\n",
    "print('X_train.shape: ', X_train.shape)\n",
    "print('y_train.shape: ', y_train.shape)"
   ]
  },
  {
   "cell_type": "markdown",
   "metadata": {},
   "source": [
    "# Define model"
   ]
  },
  {
   "cell_type": "code",
   "execution_count": null,
   "metadata": {},
   "outputs": [],
   "source": [
    "from keras import layers\n",
    "from keras import optimizers\n",
    "from keras import models"
   ]
  },
  {
   "cell_type": "code",
   "execution_count": null,
   "metadata": {},
   "outputs": [],
   "source": [
    "def conv_block(x, filter_nums, filter_sizes):\n",
    "    \"\"\"A convolution block\"\"\"\n",
    "    conv_blocks = []\n",
    "\n",
    "    for fn, fs in zip(filter_nums, filter_sizes):\n",
    "        conv = layers.Conv1D(filters=fn,\n",
    "                             kernel_size=fs,\n",
    "                             padding='same',\n",
    "                             activation='relu',\n",
    "                             strides=1)(x)\n",
    "        #conv = layers.GlobalMaxPooling1D()(conv)\n",
    "        conv_blocks.append(conv)\n",
    "\n",
    "    return conv_blocks"
   ]
  },
  {
   "cell_type": "code",
   "execution_count": null,
   "metadata": {},
   "outputs": [],
   "source": [
    "inputs = layers.Input(shape=(max_len,))\n",
    "x = layers.Embedding(len(idx_to_chr), 100, input_length=max_len)(inputs)\n",
    "\n",
    "blocks = conv_block(x, \n",
    "                    filter_nums=(256, 256, 256, 256, 256), \n",
    "                    filter_sizes=(4, 6, 8, 10, 12))\n",
    "x = layers.Concatenate()(blocks)\n",
    "x = layers.(layers.LSTM(100, \n",
    "                        dropout=0.3,\n",
    "                        recurrent_dropout=0.3,\n",
    "                        return_sequences=True)(x)\n",
    "x = layers.LSTM(50,\n",
    "                dropout=0.1,\n",
    "                recurrent_dropout=0.1,\n",
    "                return_sequences=True)(x)\n",
    "            \n",
    "x = layers.TimeDistributed(layers.Dense(300, activation='relu'))(x)\n",
    "x = layers.Dropout(0.3)(x)\n",
    "x = layers.TimeDistributed(layers.Dense(150, activation='relu'))(x)\n",
    "x = layers.TimeDistributed(layers.Dense(1, activation='sigmoid'))(x)\n",
    "x = layers.Reshape((200,))(x)\n",
    "\n",
    "model = models.Model(inputs, x)\n",
    "model.compile(loss='binary_crossentropy',\n",
    "              optimizer='adam',\n",
    "              metrics=['accuracy'])\n",
    "\n",
    "model.summary()"
   ]
  },
  {
   "cell_type": "markdown",
   "metadata": {},
   "source": [
    "# Train model"
   ]
  },
  {
   "cell_type": "code",
   "execution_count": null,
   "metadata": {},
   "outputs": [],
   "source": [
    "model.fit(X_train, y_train, \n",
    "          validation_split=0.1, \n",
    "          epochs=30, \n",
    "          batch_size=30)"
   ]
  }
 ],
 "metadata": {
  "kernelspec": {
   "display_name": "Python 3",
   "language": "python",
   "name": "python3"
  },
  "language_info": {
   "codemirror_mode": {
    "name": "ipython",
    "version": 3
   },
   "file_extension": ".py",
   "mimetype": "text/x-python",
   "name": "python",
   "nbconvert_exporter": "python",
   "pygments_lexer": "ipython3",
   "version": "3.6.6"
  }
 },
 "nbformat": 4,
 "nbformat_minor": 2
}
